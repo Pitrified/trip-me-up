{
 "cells": [
  {
   "cell_type": "markdown",
   "metadata": {},
   "source": [
    "# Sample use of the Places API (new)\n"
   ]
  },
  {
   "cell_type": "code",
   "execution_count": null,
   "metadata": {},
   "outputs": [],
   "source": [
    "%load_ext autoreload\n",
    "%autoreload 2"
   ]
  },
  {
   "cell_type": "markdown",
   "metadata": {},
   "source": [
    "Puoi trovarli a manella\n",
    "\n",
    "- https://developers.google.com/maps/documentation/places/web-service/place-id#find-id\n"
   ]
  },
  {
   "cell_type": "code",
   "execution_count": null,
   "metadata": {},
   "outputs": [],
   "source": [
    "# https://www.google.com/maps/place/Bordelaise/data=!4m2!3m1!1s0x4876060a567f2dcb:0xcbe2c525ff607f8c\n",
    "\n",
    "# https://www.google.com/maps/place/NO.79+Coffee+%26+Mousse/data=!4m2!3m1!1s0x4876056972439a27:0xc9e270a505ee0edb\n",
    "# ChIJJ5pDcmkFdkgR2w7uBaVw4sk"
   ]
  },
  {
   "cell_type": "code",
   "execution_count": null,
   "metadata": {},
   "outputs": [],
   "source": [
    "import requests\n",
    "\n",
    "from trip_me_up.credentials import PLACES_API_KEY\n",
    "\n",
    "# Replace with your place ID and API key\n",
    "# place_id = \"0x4876060a567f2dcb\"\n",
    "# place_id = \"Bordelaise, London\"\n",
    "place_id = \"ChIJyy1_VgoGdkgRjH9g_yXF4ss\"\n",
    "api_key = PLACES_API_KEY\n",
    "\n",
    "url = f\"https://maps.googleapis.com/maps/api/place/details/json?place_id={place_id}&key={api_key}\"\n",
    "\n",
    "response = requests.get(url)\n",
    "\n",
    "# Check for successful response\n",
    "if response.status_code == 200:\n",
    "    data = response.json()\n",
    "    # Access place info from the data dictionary (address, neighborhood etc.)\n",
    "    formatted_address = data[\"result\"][\"formatted_address\"]\n",
    "    # Explore the data dictionary for other info (website, phone number etc.)\n",
    "    print(f\"Formatted Address: {formatted_address}\")\n",
    "    # Access other info based on your needs\n",
    "else:\n",
    "    print(f\"Error: {response.status_code}\")"
   ]
  },
  {
   "cell_type": "code",
   "execution_count": null,
   "metadata": {},
   "outputs": [],
   "source": [
    "data"
   ]
  },
  {
   "cell_type": "markdown",
   "metadata": {},
   "source": [
    "### Refresh place ID\n"
   ]
  },
  {
   "cell_type": "code",
   "execution_count": null,
   "metadata": {},
   "outputs": [],
   "source": [
    "# https://developers.google.com/maps/documentation/places/web-service/place-id#refresh-id"
   ]
  },
  {
   "cell_type": "code",
   "execution_count": null,
   "metadata": {},
   "outputs": [],
   "source": [
    "# https://places.googleapis.com/v1/places/ChIJ05IRjKHxEQ0RJLV_5NLdK2w?fields=id&key=API_KEY"
   ]
  },
  {
   "cell_type": "code",
   "execution_count": null,
   "metadata": {},
   "outputs": [],
   "source": [
    "refresh_url_tmpl = (\n",
    "    \"https://places.googleapis.com/v1/places/{place_id}?fields=id&key={api_key}\"\n",
    ")"
   ]
  },
  {
   "cell_type": "code",
   "execution_count": null,
   "metadata": {},
   "outputs": [],
   "source": [
    "old_place_id = \"0x4876060a567f2dcb\"\n",
    "\n",
    "refresh_url = refresh_url_tmpl.format(place_id=old_place_id, api_key=api_key)\n",
    "\n",
    "# refresh_url = f\"https://places.googleapis.com/v1/places/ChIJ05IRjKHxEQ0RJLV_5NLdK2w?fields=id&key={api_key}\"\n",
    "\n",
    "response = requests.get(refresh_url)\n",
    "\n",
    "# Check for successful response\n",
    "if response.status_code == 200:\n",
    "    data = response.json()\n",
    "    # Access place info from the data dictionary (address, neighborhood etc.)\n",
    "    place_id = data[\"result\"][\"id\"]\n",
    "    # Explore the data dictionary for other info (website, phone number etc.)\n",
    "    print(f\"Place ID: {place_id}\")\n",
    "    # Access other info based on your needs\n",
    "else:\n",
    "    print(f\"Error: {response.status_code}\")"
   ]
  },
  {
   "cell_type": "code",
   "execution_count": null,
   "metadata": {},
   "outputs": [],
   "source": [
    "data\n",
    "# response.json()"
   ]
  },
  {
   "cell_type": "markdown",
   "metadata": {},
   "source": [
    "### Splitter\n"
   ]
  },
  {
   "cell_type": "code",
   "execution_count": null,
   "metadata": {},
   "outputs": [],
   "source": [
    "import re\n",
    "\n",
    "\n",
    "# Function to extract place ID from the URL\n",
    "def extract_place_id(url):\n",
    "    match = re.search(r\"!1s([^:]+)\", url)\n",
    "    if match:\n",
    "        return match.group(1)\n",
    "    return None\n",
    "\n",
    "\n",
    "raw_url = \"https://www.google.com/maps/place/Bordelaise/data=!4m2!3m1!1s0x4876060a567f2dcb:0xcbe2c525ff607f8c\"\n",
    "# https://www.google.com/maps/place/NO.79+Coffee+%26+Mousse/data=!4m2!3m1!1s0x4876056972439a27:0xc9e270a505ee0edb\n",
    "extract_place_id(raw_url)"
   ]
  },
  {
   "cell_type": "code",
   "execution_count": null,
   "metadata": {},
   "outputs": [],
   "source": [
    "# Function to get place details using Google Maps API\n",
    "def get_place_details(place_id, api_key):\n",
    "    url = f\"https://maps.googleapis.com/maps/api/place/details/json?place_id={place_id}&key={api_key}\"\n",
    "    response = requests.get(url)\n",
    "    if response.status_code == 200:\n",
    "        return response.json()\n",
    "    return None"
   ]
  },
  {
   "cell_type": "markdown",
   "metadata": {},
   "source": [
    "### Find place API\n"
   ]
  },
  {
   "cell_type": "code",
   "execution_count": null,
   "metadata": {},
   "outputs": [],
   "source": [
    "# https://maps.googleapis.com/maps/api/place/findplacefromtext/json\n",
    "#   ?fields=formatted_address%2Cname%2Crating%2Copening_hours%2Cgeometry\n",
    "#   &input=Museum%20of%20Contemporary%20Art%20Australia\n",
    "#   &inputtype=textquery\n",
    "#   &key=YOUR_API_KEY"
   ]
  },
  {
   "cell_type": "code",
   "execution_count": null,
   "metadata": {},
   "outputs": [],
   "source": [
    "# https://developers.google.com/maps/documentation/places/web-service/search-find-place"
   ]
  },
  {
   "cell_type": "code",
   "execution_count": null,
   "metadata": {},
   "outputs": [],
   "source": [
    "url_find_place_tmpl = (\n",
    "    \"https://maps.googleapis.com/maps/api/place/findplacefromtext/json\"\n",
    "    \"?fields=formatted_address%2Cname%2Cplace_id\"\n",
    "    \"&input={input_text}\"\n",
    "    \"&inputtype=textquery\"\n",
    "    \"&key={api_key}\"\n",
    ")\n",
    "\n",
    "\n",
    "def escape_input_text(input_text):\n",
    "    return input_text.replace(\" \", \"%20\")"
   ]
  },
  {
   "cell_type": "code",
   "execution_count": null,
   "metadata": {},
   "outputs": [],
   "source": [
    "place_description = \"Bordelaise, London\"\n",
    "# Place ID: ChIJyy1_VgoGdkgRjH9g_yXF4ss\n",
    "\n",
    "# place_description = \"NO.79 Coffee & Mousse, London\"\n",
    "# Place ID: ChIJJ5pDcmkFdkgR2w7uBaVw4sk\n",
    "\n",
    "\n",
    "url_find_place = url_find_place_tmpl.format(\n",
    "    input_text=escape_input_text(place_description),\n",
    "    api_key=api_key,\n",
    ")\n",
    "\n",
    "response = requests.get(url_find_place)\n",
    "\n",
    "if response.status_code == 200:\n",
    "    data = response.json()\n",
    "    candidates = data[\"candidates\"]\n",
    "    if candidates:\n",
    "        place_id = candidates[0][\"place_id\"]\n",
    "        print(f\"Place ID: {place_id}\")\n",
    "    else:\n",
    "        print(\"No candidates found\")\n",
    "else:\n",
    "    print(f\"Error: {response.status_code}\")"
   ]
  }
 ],
 "metadata": {
  "kernelspec": {
   "display_name": "trip-me-up-gjywUxS--py3.11",
   "language": "python",
   "name": "python3"
  },
  "language_info": {
   "codemirror_mode": {
    "name": "ipython",
    "version": 3
   },
   "file_extension": ".py",
   "mimetype": "text/x-python",
   "name": "python",
   "nbconvert_exporter": "python",
   "pygments_lexer": "ipython3",
   "version": "3.11.9"
  }
 },
 "nbformat": 4,
 "nbformat_minor": 2
}
