{
 "cells": [
  {
   "cell_type": "markdown",
   "metadata": {},
   "source": [
    "# Batch download place info from a csv file\n"
   ]
  },
  {
   "cell_type": "code",
   "execution_count": null,
   "metadata": {},
   "outputs": [],
   "source": [
    "%load_ext autoreload\n",
    "%autoreload 2"
   ]
  },
  {
   "cell_type": "code",
   "execution_count": 18,
   "metadata": {},
   "outputs": [],
   "source": [
    "import csv\n",
    "\n",
    "from loguru import logger as lg\n",
    "from tqdm import tqdm\n",
    "from requests import HTTPError\n",
    "\n",
    "from trip_me_up.config.constants import DATA_FOL\n",
    "from trip_me_up.config.credentials import PLACES_API_KEY\n",
    "from trip_me_up.maps.place_api import FindPlace, PlaceDetails, PlaceDetailsFields"
   ]
  },
  {
   "cell_type": "markdown",
   "metadata": {},
   "source": [
    "## Load csv data\n"
   ]
  },
  {
   "cell_type": "code",
   "execution_count": null,
   "metadata": {},
   "outputs": [],
   "source": [
    "data_fn = \"Da visitare.csv\"\n",
    "data_fp = DATA_FOL / data_fn\n",
    "data_fp"
   ]
  },
  {
   "cell_type": "code",
   "execution_count": null,
   "metadata": {},
   "outputs": [],
   "source": [
    "reader = csv.DictReader(data_fp.open())\n",
    "place_names = [row[\"Titolo\"] for row in reader]\n",
    "place_names[0]"
   ]
  },
  {
   "cell_type": "markdown",
   "metadata": {},
   "source": [
    "## Download place info\n"
   ]
  },
  {
   "cell_type": "code",
   "execution_count": 12,
   "metadata": {},
   "outputs": [],
   "source": [
    "fp = FindPlace(PLACES_API_KEY)"
   ]
  },
  {
   "cell_type": "code",
   "execution_count": 13,
   "metadata": {},
   "outputs": [],
   "source": [
    "pd = PlaceDetails(PLACES_API_KEY)"
   ]
  },
  {
   "cell_type": "code",
   "execution_count": null,
   "metadata": {},
   "outputs": [],
   "source": [
    "pdf = PlaceDetailsFields(\n",
    "    address_components=True,\n",
    "    current_opening_hours=True,\n",
    "    editorial_summary=True,\n",
    "    formatted_address=True,\n",
    "    formatted_phone_number=True,\n",
    "    geometry=True,\n",
    "    name=True,\n",
    "    opening_hours=True,\n",
    "    price_level=True,\n",
    "    rating=True,\n",
    "    types=True,\n",
    "    user_ratings_total=True,\n",
    "    website=True,\n",
    ")\n",
    "pdf.get_fields()"
   ]
  },
  {
   "cell_type": "code",
   "execution_count": null,
   "metadata": {},
   "outputs": [],
   "source": [
    "place_details_all = []\n",
    "\n",
    "\n",
    "for place_name in tqdm(place_names):\n",
    "    # lg.info(f\"Finding place_id for {place_name}\")\n",
    "    try:\n",
    "        place_id = fp.find_place_id(place_name)\n",
    "        if place_id is None:\n",
    "            lg.warning(f\"Could not find place_id for {place_name}\")\n",
    "            continue\n",
    "        place_details = pd.get_place_details(place_id, pdf)\n",
    "        place_details_all.append(place_details)\n",
    "    except HTTPError as e:\n",
    "        lg.error(f\"Error for {place_name}: {e}\")\n",
    "        continue\n",
    "    # print(place_details)\n",
    "    # break"
   ]
  },
  {
   "cell_type": "code",
   "execution_count": null,
   "metadata": {},
   "outputs": [],
   "source": [
    "place_details_all[5][\"result\"][\"editorial_summary\"]"
   ]
  },
  {
   "cell_type": "code",
   "execution_count": null,
   "metadata": {},
   "outputs": [],
   "source": [
    "from collections import Counter\n",
    "\n",
    "\n",
    "summary_counter = Counter(\n",
    "    [\"editorial_summary\" in place[\"result\"] for place in place_details_all]\n",
    ")\n",
    "summary_counter"
   ]
  }
 ],
 "metadata": {
  "kernelspec": {
   "display_name": "trip-me-up-gjywUxS--py3.11",
   "language": "python",
   "name": "python3"
  },
  "language_info": {
   "codemirror_mode": {
    "name": "ipython",
    "version": 3
   },
   "file_extension": ".py",
   "mimetype": "text/x-python",
   "name": "python",
   "nbconvert_exporter": "python",
   "pygments_lexer": "ipython3",
   "version": "3.11.10"
  }
 },
 "nbformat": 4,
 "nbformat_minor": 2
}
